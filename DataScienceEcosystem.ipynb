{
 "cells": [
  {
   "cell_type": "markdown",
   "id": "e6908e9c-1886-489c-a0b7-068aa50ff495",
   "metadata": {},
   "source": [
    "# Data Science Tools and Ecosystem #"
   ]
  },
  {
   "cell_type": "markdown",
   "id": "67dff285-f327-404c-9f1f-96522eb24fed",
   "metadata": {},
   "source": [
    "In this notebook, Data Science Tools and Ecosystem are summarized"
   ]
  },
  {
   "cell_type": "markdown",
   "id": "03967a84-3944-4481-a957-8bfc54a96934",
   "metadata": {},
   "source": [
    "__Objectives:__"
   ]
  },
  {
   "cell_type": "markdown",
   "id": "dcace42e-5960-4e06-85c8-f96c7fa9c1cf",
   "metadata": {},
   "source": [
    "- List of Popular Language that Data Scientists use\n",
    "- List of commonly used Libraries \n",
    "- List of Data Science Tools\n",
    "- Examples of evaluating arithmetic expressions in Python"
   ]
  },
  {
   "cell_type": "markdown",
   "id": "6cf284f6-ba4d-459b-b744-ae5405c44b66",
   "metadata": {},
   "source": [
    "Some of the popular languages that Data Scientists use are:"
   ]
  },
  {
   "cell_type": "markdown",
   "id": "024f91c0-bebb-4bed-a67f-d11bef94cc18",
   "metadata": {
    "tags": []
   },
   "source": [
    "1. Python\n",
    "2. Julia \n",
    "3. R"
   ]
  },
  {
   "cell_type": "markdown",
   "id": "7c2b77fb-7846-4f25-905d-a4c16687561d",
   "metadata": {},
   "source": [
    "Some of the commonly used libraries used by Data Scientists include:"
   ]
  },
  {
   "cell_type": "markdown",
   "id": "1b25d0c2-f52b-4420-8a53-d0b4eb4c2d49",
   "metadata": {},
   "source": [
    "1. NumPy\n",
    "2. SciPy\n",
    "3. Pandas"
   ]
  },
  {
   "cell_type": "markdown",
   "id": "aa28f4c0-e8e1-4b6c-9625-33761b50f05a",
   "metadata": {},
   "source": [
    "| Data Science Tools |\n",
    "|--------------------|\n",
    "|   PyTourch         |\n",
    "|   MLFlow           |\n",
    "|   Jupyter Notebook |"
   ]
  },
  {
   "cell_type": "markdown",
   "id": "a013a2d8-e707-4d36-a675-970811a46efd",
   "metadata": {},
   "source": [
    "### Below are a few examples of evaluating arithmetic expressions in Python ###"
   ]
  },
  {
   "cell_type": "code",
   "execution_count": 46,
   "id": "634d4942-5fe1-46b9-88fa-7f0c02621d5c",
   "metadata": {
    "tags": []
   },
   "outputs": [],
   "source": [
    "# This a simple arithmetic expression to mutiply then add integers #"
   ]
  },
  {
   "cell_type": "code",
   "execution_count": 48,
   "id": "ac10f629-e6ca-43e7-98ee-4e3a0ccaa2fb",
   "metadata": {
    "tags": []
   },
   "outputs": [
    {
     "data": {
      "text/plain": [
       "17"
      ]
     },
     "execution_count": 48,
     "metadata": {},
     "output_type": "execute_result"
    }
   ],
   "source": [
    "(3*4)+5"
   ]
  },
  {
   "cell_type": "code",
   "execution_count": 50,
   "id": "332f7bcc-04f9-4786-a2cc-c7611f1fad4d",
   "metadata": {
    "tags": []
   },
   "outputs": [],
   "source": [
    "# This will convert 200 minutes to hours by diving by 60 #"
   ]
  },
  {
   "cell_type": "code",
   "execution_count": 52,
   "id": "ba4e373f-81cc-4c58-8aa1-948e1a1ebadc",
   "metadata": {
    "tags": []
   },
   "outputs": [
    {
     "data": {
      "text/plain": [
       "3.3333333333333335"
      ]
     },
     "execution_count": 52,
     "metadata": {},
     "output_type": "execute_result"
    }
   ],
   "source": [
    "200/60"
   ]
  },
  {
   "cell_type": "markdown",
   "id": "6431b374-f00b-45a6-bd0d-5a9fb2c71a1b",
   "metadata": {},
   "source": [
    "## Author ##"
   ]
  },
  {
   "cell_type": "markdown",
   "id": "4c2af4bf-9f75-4d02-98b2-082e0272f7f0",
   "metadata": {
    "tags": []
   },
   "source": [
    "Regan Awale"
   ]
  },
  {
   "cell_type": "code",
   "execution_count": null,
   "id": "01919b3c-228b-4ca4-941f-ffc2a76e3e9e",
   "metadata": {},
   "outputs": [],
   "source": []
  }
 ],
 "metadata": {
  "kernelspec": {
   "display_name": "Python 3 (ipykernel)",
   "language": "python",
   "name": "python3"
  },
  "language_info": {
   "codemirror_mode": {
    "name": "ipython",
    "version": 3
   },
   "file_extension": ".py",
   "mimetype": "text/x-python",
   "name": "python",
   "nbconvert_exporter": "python",
   "pygments_lexer": "ipython3",
   "version": "3.11.7"
  }
 },
 "nbformat": 4,
 "nbformat_minor": 5
}
